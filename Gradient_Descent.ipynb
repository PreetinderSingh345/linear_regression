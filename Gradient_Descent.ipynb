{
 "cells": [
  {
   "cell_type": "code",
   "execution_count": 1,
   "metadata": {},
   "outputs": [],
   "source": [
    "# implementing the gradient descent algorithm for a single feature input"
   ]
  },
  {
   "cell_type": "code",
   "execution_count": 2,
   "metadata": {},
   "outputs": [],
   "source": [
    "# importing the required modules/libraries/packages\n",
    "\n",
    "import numpy as np\n",
    "import pandas as pd\n",
    "from sklearn import model_selection"
   ]
  },
  {
   "cell_type": "code",
   "execution_count": 3,
   "metadata": {},
   "outputs": [],
   "source": [
    "# loading the data \n",
    "\n",
    "data=np.loadtxt(\"data.csv\", delimiter=\",\")"
   ]
  },
  {
   "cell_type": "code",
   "execution_count": 4,
   "metadata": {},
   "outputs": [],
   "source": [
    "# converting the data to a dataframe\n",
    "\n",
    "df=pd.DataFrame(data)"
   ]
  },
  {
   "cell_type": "code",
   "execution_count": 5,
   "metadata": {},
   "outputs": [
    {
     "output_type": "execute_result",
     "data": {
      "text/plain": [
       "           0          1\n",
       "0  32.502345  31.707006\n",
       "1  53.426804  68.777596\n",
       "2  61.530358  62.562382\n",
       "3  47.475640  71.546632\n",
       "4  59.813208  87.230925"
      ],
      "text/html": "<div>\n<style scoped>\n    .dataframe tbody tr th:only-of-type {\n        vertical-align: middle;\n    }\n\n    .dataframe tbody tr th {\n        vertical-align: top;\n    }\n\n    .dataframe thead th {\n        text-align: right;\n    }\n</style>\n<table border=\"1\" class=\"dataframe\">\n  <thead>\n    <tr style=\"text-align: right;\">\n      <th></th>\n      <th>0</th>\n      <th>1</th>\n    </tr>\n  </thead>\n  <tbody>\n    <tr>\n      <th>0</th>\n      <td>32.502345</td>\n      <td>31.707006</td>\n    </tr>\n    <tr>\n      <th>1</th>\n      <td>53.426804</td>\n      <td>68.777596</td>\n    </tr>\n    <tr>\n      <th>2</th>\n      <td>61.530358</td>\n      <td>62.562382</td>\n    </tr>\n    <tr>\n      <th>3</th>\n      <td>47.475640</td>\n      <td>71.546632</td>\n    </tr>\n    <tr>\n      <th>4</th>\n      <td>59.813208</td>\n      <td>87.230925</td>\n    </tr>\n  </tbody>\n</table>\n</div>"
     },
     "metadata": {},
     "execution_count": 5
    }
   ],
   "source": [
    "# having a better look at the data\n",
    "\n",
    "df.head()"
   ]
  },
  {
   "cell_type": "code",
   "execution_count": 6,
   "metadata": {},
   "outputs": [],
   "source": [
    "# getting the input and output columns\n",
    "\n",
    "X=data[:, 0]\n",
    "Y=data[:, 1]"
   ]
  },
  {
   "cell_type": "code",
   "execution_count": 7,
   "metadata": {},
   "outputs": [],
   "source": [
    "# splitting the data into training and testing\n",
    "\n",
    "X_train, X_test, Y_train, Y_test=model_selection.train_test_split(X, Y, random_state=1)"
   ]
  },
  {
   "cell_type": "code",
   "execution_count": 8,
   "metadata": {},
   "outputs": [],
   "source": [
    "# finding the score for the algorithm by comparing the predicted and the truth values\n",
    "\n",
    "def score(Y_pred, Y_true):\n",
    "    np_y_pred=np.array(Y_pred)\n",
    "    np_y_true=np.array(Y_true)\n",
    "    \n",
    "    u=((np_y_true-np_y_pred)**2).sum()\n",
    "    v=((np_y_true-np_y_true.mean())**2).sum()\n",
    "    \n",
    "    score=(1-(u/v))\n",
    "    \n",
    "    return score"
   ]
  },
  {
   "cell_type": "code",
   "execution_count": 9,
   "metadata": {},
   "outputs": [],
   "source": [
    "# predicting the output for a test x input according to the best fit line i.e. y=m*x+c\n",
    "\n",
    "def predict(x, m, c):\n",
    "    y_pred=((m*x)+c)\n",
    "    \n",
    "    return y_pred"
   ]
  },
  {
   "cell_type": "code",
   "execution_count": 10,
   "metadata": {},
   "outputs": [],
   "source": [
    "# step gradient function which updates the m and c values\n",
    "\n",
    "def step_gradient(learning_rate, m, c):\n",
    "    # calculating the differential of cost wrt m and c respectively\n",
    "\n",
    "    m_slope, c_slope=0, 0\n",
    "    N=len(X_train)\n",
    "    \n",
    "    for i in range(N):\n",
    "        x=X_train[i]\n",
    "        y=Y_train[i]\n",
    "        \n",
    "        m_slope+=((y-((m*x)+c))*x)\n",
    "        c_slope+=(y-((m*x)+c))\n",
    "        \n",
    "    m_slope*=(-2/N)\n",
    "    c_slope*=(-2/N)\n",
    "    \n",
    "    # updating the m and c values and returning them\n",
    "    \n",
    "    m-=(learning_rate*m_slope)\n",
    "    c-=(learning_rate*c_slope)\n",
    "    \n",
    "    return (m, c)"
   ]
  },
  {
   "cell_type": "code",
   "execution_count": 11,
   "metadata": {},
   "outputs": [],
   "source": [
    "# cost function to calculate the average cost for a particular value of m and c \n",
    "\n",
    "def cost(m, c):\n",
    "    cost=0\n",
    "    N=len(X_train)\n",
    "    \n",
    "    for i in range(N):\n",
    "        x=X_train[i]\n",
    "        y=Y_train[i]\n",
    "        \n",
    "        cost+=((y-((m*x)+c))**2)\n",
    "        \n",
    "    cost/=N\n",
    "    \n",
    "    return cost"
   ]
  },
  {
   "cell_type": "code",
   "execution_count": 12,
   "metadata": {},
   "outputs": [],
   "source": [
    "# gd function to calculate the optimal values of m and c for the best fit line\n",
    "\n",
    "def gd(learning_rate):\n",
    "    # starting with random values of m and c\n",
    "    m, c=0, 0\n",
    "    \n",
    "    # changing the m and c values in each iteration with the help of the step gradient function \n",
    "    \n",
    "    # finding the value of learning_rate i.e. alpha for which we just don't overshoot\n",
    "\n",
    "    prev_cost=cost(m, c)\n",
    "\n",
    "    while True:\n",
    "        new_m, new_c=step_gradient(learning_rate, m, c)\n",
    "    \n",
    "        new_cost=cost(new_m, new_c)\n",
    "\n",
    "        if new_cost>=prev_cost:\n",
    "            learning_rate/=10\n",
    "        else:\n",
    "            break\n",
    "    \n",
    "    while True:        \n",
    "        # printing the cost and calculating the new m and c values at each iteration\n",
    "\n",
    "        prev_cost=cost(m, c)\n",
    "              \n",
    "        m, c=step_gradient(learning_rate, m, c)        \n",
    "        \n",
    "        new_cost=cost(m, c)\n",
    "\n",
    "        # when the absolute difference between the new and the prev costs is lesser than 0.01, then we simply break and return the m and c values\n",
    "        \n",
    "        if abs(new_cost-prev_cost)<=0.01:\n",
    "            break\n",
    "        \n",
    "    return (m, c)"
   ]
  },
  {
   "cell_type": "code",
   "execution_count": 13,
   "metadata": {},
   "outputs": [],
   "source": [
    "# run function to run the gradient descent algorithm and return the optimal m and c values\n",
    "\n",
    "def run():\n",
    "    # taking initial value of the learning rate i.e. aplha as 0.1 \n",
    "    \n",
    "    learning_rate=0.1    \n",
    "    \n",
    "    # calling the gradient descent function to get the optimal values of m and c for the best fit  line and then returning them\n",
    "    \n",
    "    m, c=gd(learning_rate)\n",
    "    \n",
    "    return (m, c)"
   ]
  },
  {
   "cell_type": "code",
   "execution_count": 14,
   "metadata": {},
   "outputs": [],
   "source": [
    "# running the gradient descent algorithm\n",
    "\n",
    "m, c=run()"
   ]
  },
  {
   "cell_type": "code",
   "execution_count": 15,
   "metadata": {},
   "outputs": [],
   "source": [
    "Y_pred=predict(X_test, m, c)"
   ]
  },
  {
   "cell_type": "code",
   "execution_count": 16,
   "metadata": {},
   "outputs": [],
   "source": [
    "# storing the predictions in a csv file\n",
    "\n",
    "df=pd.DataFrame(Y_pred)\n",
    "\n",
    "df.to_csv(\"predictions2.csv\", header=False, index=False)"
   ]
  },
  {
   "cell_type": "code",
   "execution_count": 17,
   "metadata": {},
   "outputs": [
    {
     "output_type": "stream",
     "name": "stdout",
     "text": [
      "0.5981963479283324\n"
     ]
    }
   ],
   "source": [
    "# calculating the score of the algorithm\n",
    "\n",
    "score=score(Y_pred, Y_test)\n",
    "\n",
    "print(score)"
   ]
  }
 ],
 "metadata": {
  "kernelspec": {
   "name": "python385jvsc74a57bd0970ece05f2fd367a433285c0204e778ad1644066d163bed046b3b0abfdd35b59",
   "display_name": "Python 3.8.5 64-bit (conda)"
  },
  "language_info": {
   "codemirror_mode": {
    "name": "ipython",
    "version": 3
   },
   "file_extension": ".py",
   "mimetype": "text/x-python",
   "name": "python",
   "nbconvert_exporter": "python",
   "pygments_lexer": "ipython3",
   "version": "3.8.5-final"
  }
 },
 "nbformat": 4,
 "nbformat_minor": 4
}