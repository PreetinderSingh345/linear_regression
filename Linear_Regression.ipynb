{
 "cells": [
  {
   "source": [
    "# implementing the linear regression algorithm for a single feature input"
   ],
   "cell_type": "code",
   "metadata": {},
   "execution_count": 1,
   "outputs": []
  },
  {
   "source": [
    "# importing the required modules/libraries/packages\n",
    "\n",
    "import numpy as np\n",
    "import pandas as pd\n",
    "from sklearn import model_selection"
   ],
   "cell_type": "code",
   "metadata": {},
   "execution_count": 2,
   "outputs": []
  },
  {
   "cell_type": "code",
   "execution_count": 3,
   "metadata": {},
   "outputs": [],
   "source": [
    "# loading the data\n",
    "\n",
    "data=np.loadtxt(\"data.csv\", delimiter=\",\")"
   ]
  },
  {
   "cell_type": "code",
   "execution_count": 4,
   "metadata": {},
   "outputs": [],
   "source": [
    "# converting the data to a dataframe \n",
    "\n",
    "df=pd.DataFrame(data)"
   ]
  },
  {
   "cell_type": "code",
   "execution_count": 5,
   "metadata": {},
   "outputs": [
    {
     "output_type": "execute_result",
     "data": {
      "text/plain": [
       "           0          1\n",
       "0  32.502345  31.707006\n",
       "1  53.426804  68.777596\n",
       "2  61.530358  62.562382\n",
       "3  47.475640  71.546632\n",
       "4  59.813208  87.230925"
      ],
      "text/html": "<div>\n<style scoped>\n    .dataframe tbody tr th:only-of-type {\n        vertical-align: middle;\n    }\n\n    .dataframe tbody tr th {\n        vertical-align: top;\n    }\n\n    .dataframe thead th {\n        text-align: right;\n    }\n</style>\n<table border=\"1\" class=\"dataframe\">\n  <thead>\n    <tr style=\"text-align: right;\">\n      <th></th>\n      <th>0</th>\n      <th>1</th>\n    </tr>\n  </thead>\n  <tbody>\n    <tr>\n      <th>0</th>\n      <td>32.502345</td>\n      <td>31.707006</td>\n    </tr>\n    <tr>\n      <th>1</th>\n      <td>53.426804</td>\n      <td>68.777596</td>\n    </tr>\n    <tr>\n      <th>2</th>\n      <td>61.530358</td>\n      <td>62.562382</td>\n    </tr>\n    <tr>\n      <th>3</th>\n      <td>47.475640</td>\n      <td>71.546632</td>\n    </tr>\n    <tr>\n      <th>4</th>\n      <td>59.813208</td>\n      <td>87.230925</td>\n    </tr>\n  </tbody>\n</table>\n</div>"
     },
     "metadata": {},
     "execution_count": 5
    }
   ],
   "source": [
    "# having a better look at the data\n",
    "\n",
    "df.head()"
   ]
  },
  {
   "cell_type": "code",
   "execution_count": 6,
   "metadata": {},
   "outputs": [],
   "source": [
    "# getting the input and output columns\n",
    "\n",
    "X=data[:, 0]\n",
    "Y=data[:, 1]"
   ]
  },
  {
   "cell_type": "code",
   "execution_count": 7,
   "metadata": {},
   "outputs": [],
   "source": [
    "# splitting the data into training and testing\n",
    "\n",
    "X_train, X_test, Y_train, Y_test=model_selection.train_test_split(X, Y, random_state=1)"
   ]
  },
  {
   "cell_type": "code",
   "execution_count": 8,
   "metadata": {},
   "outputs": [],
   "source": [
    "# fitting the training data into the algorithm\n",
    "\n",
    "def fit(x, y):\n",
    "    np_x=np.array(x)\n",
    "    np_y=np.array(y)\n",
    "    \n",
    "#     calculating the values of m and c for which the cost function is minimum(obtained after differentiating the cost \n",
    "#     function wrt to m and c and putting the differential to 0)\n",
    "    \n",
    "    x_mean=np_x.mean()\n",
    "    y_mean=np_y.mean()\n",
    "    x2_mean=(np_x**2).mean()\n",
    "    xy_mean=(np_x*np_y).mean()\n",
    "    \n",
    "    m=((xy_mean-(x_mean*y_mean))/(x2_mean-(x_mean**2)))\n",
    "    c=(y_mean-m*(x_mean))\n",
    "    \n",
    "#     returning the optimal values of m and c for the best fit line\n",
    "    \n",
    "    return (m, c)"
   ]
  },
  {
   "cell_type": "code",
   "execution_count": 10,
   "metadata": {},
   "outputs": [],
   "source": [
    "# getting the minimum average total cost or error associated with all the training data points, after finding the optimal values of m and c\n",
    "\n",
    "def cost(x, y, m, c):\n",
    "    np_x=np.array(x)\n",
    "    np_y=np.array(y)\n",
    "\n",
    "    N=len(X_train)\n",
    "    \n",
    "    cost=(((np_y-((m*np_x)+c))**2).sum())/N    \n",
    "    \n",
    "    return cost"
   ]
  },
  {
   "cell_type": "code",
   "execution_count": 11,
   "metadata": {},
   "outputs": [],
   "source": [
    "# predicting the output for a test x input according to the best fit line i.e. y=m*x+c\n",
    "\n",
    "def predict(x, m, c):\n",
    "    y_pred=((m*x)+c)\n",
    "    \n",
    "    return y_pred"
   ]
  },
  {
   "cell_type": "code",
   "execution_count": 12,
   "metadata": {},
   "outputs": [],
   "source": [
    "# finding the score for the algorithm by comparing the predicted and the truth values\n",
    "\n",
    "def score(Y_pred, Y_true):\n",
    "    np_y_pred=np.array(Y_pred)\n",
    "    np_y_true=np.array(Y_true)\n",
    "    \n",
    "    u=((np_y_true-np_y_pred)**2).sum()\n",
    "    v=((np_y_true-np_y_true.mean())**2).sum()\n",
    "    \n",
    "    score=(1-(u/v))\n",
    "    \n",
    "    return score"
   ]
  },
  {
   "cell_type": "code",
   "execution_count": 13,
   "metadata": {},
   "outputs": [],
   "source": [
    "# getting the optimal values of m and c for the best fit line\n",
    "\n",
    "m, c=fit(X_train, Y_train)"
   ]
  },
  {
   "cell_type": "code",
   "execution_count": 14,
   "metadata": {},
   "outputs": [
    {
     "output_type": "stream",
     "name": "stdout",
     "text": [
      "93.62715031893556\n"
     ]
    }
   ],
   "source": [
    "# finding the minimum average total cost or error which is associated with all the training data points\n",
    "\n",
    "cost=cost(X_train, Y_train, m, c)\n",
    "\n",
    "print(cost)"
   ]
  },
  {
   "cell_type": "code",
   "execution_count": 15,
   "metadata": {},
   "outputs": [
    {
     "output_type": "stream",
     "name": "stdout",
     "text": [
      "81.77289606029456\n82.86481582350953\n83.32806576858246\n81.73311706338174\n68.63768427534484\n85.95355347998157\n87.92181466135547\n53.991289106056016\n55.64696334662755\n60.42305571451358\n96.37827114300786\n58.10598640885901\n62.66328391049501\n61.70532436092045\n66.50996680360466\n63.96661918310784\n55.51122714960584\n89.27747740386145\n80.42434453751088\n67.63904196590036\n87.47143059983519\n64.79305132691573\n73.32613112915536\n76.20531030753533\n59.51077223498662\n"
     ]
    }
   ],
   "source": [
    "# getting the predicted values for the test x input\n",
    "\n",
    "Y_pred=predict(X_test, m, c)\n",
    "\n",
    "for prediction in Y_pred:\n",
    "    print(prediction)"
   ]
  },
  {
   "cell_type": "code",
   "execution_count": 16,
   "metadata": {},
   "outputs": [],
   "source": [
    "# storing the predictions in a csv file\n",
    "\n",
    "df=pd.DataFrame(Y_pred)\n",
    "\n",
    "df.to_csv(\"predictions1.csv\", header=False, index=False)"
   ]
  },
  {
   "cell_type": "code",
   "execution_count": 17,
   "metadata": {},
   "outputs": [
    {
     "output_type": "stream",
     "name": "stdout",
     "text": [
      "0.57882794990919\n"
     ]
    }
   ],
   "source": [
    "# calculating the score of the algorithm \n",
    "\n",
    "score=score(Y_pred, Y_test)\n",
    "\n",
    "print(score)"
   ]
  }
 ],
 "metadata": {
  "kernelspec": {
   "name": "python385jvsc74a57bd0970ece05f2fd367a433285c0204e778ad1644066d163bed046b3b0abfdd35b59",
   "display_name": "Python 3.8.5 64-bit (conda)"
  },
  "language_info": {
   "codemirror_mode": {
    "name": "ipython",
    "version": 3
   },
   "file_extension": ".py",
   "mimetype": "text/x-python",
   "name": "python",
   "nbconvert_exporter": "python",
   "pygments_lexer": "ipython3",
   "version": "3.8.5-final"
  }
 },
 "nbformat": 4,
 "nbformat_minor": 4
}